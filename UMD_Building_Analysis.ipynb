{
 "cells": [
  {
   "cell_type": "code",
   "execution_count": 20,
   "metadata": {},
   "outputs": [],
   "source": [
    "#Import the pandas library\n",
    "import pandas as pd"
   ]
  },
  {
   "cell_type": "code",
   "execution_count": 21,
   "metadata": {},
   "outputs": [],
   "source": [
    "# Importing the two datasets for performance benchmarking\n",
    "df11 = pd.read_csv(\"C:\\\\Users\\\\Zacch\\\\Documents\\\\INST 414 & 447\\\\Project 1\\\\2011_Performance_Benchmarking.csv\")\n",
    "df12 = pd.read_csv(\"C:\\\\Users\\\\Zacch\\\\Documents\\\\INST 414 & 447\\\\Project 1\\\\2012_Performance_Benchmarking.csv\")"
   ]
  },
  {
   "cell_type": "code",
   "execution_count": 22,
   "metadata": {},
   "outputs": [
    {
     "data": {
      "text/plain": [
       "Index(['DC_Real_Property_ID', 'Address_of_Record', 'Owner_of_Record', 'Ward',\n",
       "       'Year', 'Property_Name', 'Address_1', 'Postal_Code',\n",
       "       'Primary_Property_Type', 'Year_Built',\n",
       "       '_Reported_Building_Gross_Floor_Area_ft_', 'Site_EUI_kBtu/ft',\n",
       "       'Weather_Normalized_Source_EUI_kBtu/ft', 'ENERGY_STAR_Score',\n",
       "       'Total_GHG_Emissions_MtCO2e',\n",
       "       'Electricity_Use_-_Grid_Purchase_and_Onsite_kWh',\n",
       "       'Natural_Gas_Use_therms'],\n",
       "      dtype='object')"
      ]
     },
     "execution_count": 22,
     "metadata": {},
     "output_type": "execute_result"
    }
   ],
   "source": [
    "df11.columns"
   ]
  },
  {
   "cell_type": "code",
   "execution_count": 23,
   "metadata": {},
   "outputs": [
    {
     "data": {
      "text/plain": [
       "Index(['DC_Real_Property_ID', 'Address_of_Record', 'Owner_of_Record', 'Ward',\n",
       "       'Year', 'Property_Name', 'Address_1', 'Postal_Code',\n",
       "       'Primary_Property_Type', 'Year_Built',\n",
       "       '_Reported_Building_Gross_Floor_Area_ft_', 'Site_EUI_kBtu/ft',\n",
       "       'Weather_Normalized_Source_EUI_kBtu/ft', 'ENERGY_STAR_Score',\n",
       "       'Total_GHG_Emissions_MtCO2e',\n",
       "       'Electricity_Use_-_Grid_Purchase_and_Onsite_kWh',\n",
       "       'Natural_Gas_Use_therms'],\n",
       "      dtype='object')"
      ]
     },
     "execution_count": 23,
     "metadata": {},
     "output_type": "execute_result"
    }
   ],
   "source": [
    "df12.columns"
   ]
  },
  {
   "cell_type": "code",
   "execution_count": 24,
   "metadata": {},
   "outputs": [],
   "source": [
    "benchmark = pd.concat([df11,df12],axis=0, ignore_index=True)"
   ]
  },
  {
   "cell_type": "code",
   "execution_count": 25,
   "metadata": {},
   "outputs": [
    {
     "name": "stdout",
     "output_type": "stream",
     "text": [
      "<class 'pandas.core.frame.DataFrame'>\n",
      "RangeIndex: 796 entries, 0 to 795\n",
      "Data columns (total 17 columns):\n",
      " #   Column                                          Non-Null Count  Dtype  \n",
      "---  ------                                          --------------  -----  \n",
      " 0   DC_Real_Property_ID                             794 non-null    object \n",
      " 1   Address_of_Record                               775 non-null    object \n",
      " 2   Owner_of_Record                                 775 non-null    object \n",
      " 3   Ward                                            796 non-null    int64  \n",
      " 4   Year                                            796 non-null    int64  \n",
      " 5   Property_Name                                   796 non-null    object \n",
      " 6   Address_1                                       796 non-null    object \n",
      " 7   Postal_Code                                     796 non-null    int64  \n",
      " 8   Primary_Property_Type                           796 non-null    object \n",
      " 9   Year_Built                                      795 non-null    float64\n",
      " 10  _Reported_Building_Gross_Floor_Area_ft_         796 non-null    object \n",
      " 11  Site_EUI_kBtu/ft                                796 non-null    object \n",
      " 12  Weather_Normalized_Source_EUI_kBtu/ft           731 non-null    object \n",
      " 13  ENERGY_STAR_Score                               788 non-null    float64\n",
      " 14  Total_GHG_Emissions_MtCO2e                      796 non-null    float64\n",
      " 15  Electricity_Use_-_Grid_Purchase_and_Onsite_kWh  693 non-null    float64\n",
      " 16  Natural_Gas_Use_therms                          373 non-null    float64\n",
      "dtypes: float64(5), int64(3), object(9)\n",
      "memory usage: 105.8+ KB\n"
     ]
    },
    {
     "data": {
      "text/plain": [
       "(796, 17)"
      ]
     },
     "execution_count": 25,
     "metadata": {},
     "output_type": "execute_result"
    }
   ],
   "source": [
    "benchmark.info()\n",
    "benchmark.shape\n",
    "\n",
    "# Question 1: Number of columns and rows\n",
    "#  - 17 columns and 796 rows"
   ]
  },
  {
   "cell_type": "code",
   "execution_count": 26,
   "metadata": {},
   "outputs": [],
   "source": [
    "benchmark = benchmark.drop_duplicates(keep=\"first\")"
   ]
  },
  {
   "cell_type": "code",
   "execution_count": 27,
   "metadata": {},
   "outputs": [
    {
     "data": {
      "text/plain": [
       "(796, 17)"
      ]
     },
     "execution_count": 27,
     "metadata": {},
     "output_type": "execute_result"
    }
   ],
   "source": [
    "benchmark.shape"
   ]
  },
  {
   "cell_type": "code",
   "execution_count": 28,
   "metadata": {},
   "outputs": [],
   "source": [
    "# Question 2:\n",
    "\n",
    "# Casting the gross floor area object into numeric \n",
    "benchmark['_Reported_Building_Gross_Floor_Area_ft_']= benchmark['_Reported_Building_Gross_Floor_Area_ft_'].str.replace(',','')\n",
    "benchmark['_Reported_Building_Gross_Floor_Area_ft_']= benchmark['_Reported_Building_Gross_Floor_Area_ft_'].astype(int)"
   ]
  },
  {
   "cell_type": "code",
   "execution_count": 29,
   "metadata": {},
   "outputs": [
    {
     "data": {
      "text/plain": [
       "DC_Real_Property_ID                                object\n",
       "Address_of_Record                                  object\n",
       "Owner_of_Record                                    object\n",
       "Ward                                                int64\n",
       "Year                                                int64\n",
       "Property_Name                                      object\n",
       "Address_1                                          object\n",
       "Postal_Code                                         int64\n",
       "Primary_Property_Type                              object\n",
       "Year_Built                                        float64\n",
       "_Reported_Building_Gross_Floor_Area_ft_             int32\n",
       "Site_EUI_kBtu/ft                                   object\n",
       "Weather_Normalized_Source_EUI_kBtu/ft              object\n",
       "ENERGY_STAR_Score                                 float64\n",
       "Total_GHG_Emissions_MtCO2e                        float64\n",
       "Electricity_Use_-_Grid_Purchase_and_Onsite_kWh    float64\n",
       "Natural_Gas_Use_therms                            float64\n",
       "dtype: object"
      ]
     },
     "execution_count": 29,
     "metadata": {},
     "output_type": "execute_result"
    }
   ],
   "source": [
    "benchmark.dtypes"
   ]
  },
  {
   "cell_type": "code",
   "execution_count": 30,
   "metadata": {},
   "outputs": [
    {
     "data": {
      "text/html": [
       "<div>\n",
       "<style scoped>\n",
       "    .dataframe tbody tr th:only-of-type {\n",
       "        vertical-align: middle;\n",
       "    }\n",
       "\n",
       "    .dataframe tbody tr th {\n",
       "        vertical-align: top;\n",
       "    }\n",
       "\n",
       "    .dataframe thead th {\n",
       "        text-align: right;\n",
       "    }\n",
       "</style>\n",
       "<table border=\"1\" class=\"dataframe\">\n",
       "  <thead>\n",
       "    <tr style=\"text-align: right;\">\n",
       "      <th></th>\n",
       "      <th>DC_Real_Property_ID</th>\n",
       "      <th>Address_of_Record</th>\n",
       "      <th>Owner_of_Record</th>\n",
       "      <th>Ward</th>\n",
       "      <th>Year</th>\n",
       "      <th>Property_Name</th>\n",
       "      <th>Address_1</th>\n",
       "      <th>Postal_Code</th>\n",
       "      <th>Primary_Property_Type</th>\n",
       "      <th>Year_Built</th>\n",
       "      <th>_Reported_Building_Gross_Floor_Area_ft_</th>\n",
       "      <th>Site_EUI_kBtu/ft</th>\n",
       "      <th>Weather_Normalized_Source_EUI_kBtu/ft</th>\n",
       "      <th>ENERGY_STAR_Score</th>\n",
       "      <th>Total_GHG_Emissions_MtCO2e</th>\n",
       "      <th>Electricity_Use_-_Grid_Purchase_and_Onsite_kWh</th>\n",
       "      <th>Natural_Gas_Use_therms</th>\n",
       "    </tr>\n",
       "  </thead>\n",
       "  <tbody>\n",
       "    <tr>\n",
       "      <th>791</th>\n",
       "      <td>Not Available*</td>\n",
       "      <td>NaN</td>\n",
       "      <td>NaN</td>\n",
       "      <td>8</td>\n",
       "      <td>2012</td>\n",
       "      <td>1275 Penn Ave NW</td>\n",
       "      <td>12745 Penn Avenue NW</td>\n",
       "      <td>20004</td>\n",
       "      <td>Office</td>\n",
       "      <td>1956.0</td>\n",
       "      <td>238380</td>\n",
       "      <td>73.1</td>\n",
       "      <td>227.5</td>\n",
       "      <td>63.0</td>\n",
       "      <td>2205.60</td>\n",
       "      <td>5104647.0</td>\n",
       "      <td>NaN</td>\n",
       "    </tr>\n",
       "    <tr>\n",
       "      <th>792</th>\n",
       "      <td>PAR01200034</td>\n",
       "      <td>125 MICHIGAN AV</td>\n",
       "      <td>TRINITY COLLEGE</td>\n",
       "      <td>5</td>\n",
       "      <td>2012</td>\n",
       "      <td>Alumnae and Main Hall</td>\n",
       "      <td>125 Michigan Ave. NE</td>\n",
       "      <td>20017</td>\n",
       "      <td>College/University</td>\n",
       "      <td>1910.0</td>\n",
       "      <td>290700</td>\n",
       "      <td>83.4</td>\n",
       "      <td>156.2</td>\n",
       "      <td>0.0</td>\n",
       "      <td>1891.81</td>\n",
       "      <td>1995047.1</td>\n",
       "      <td>174410.100</td>\n",
       "    </tr>\n",
       "    <tr>\n",
       "      <th>793</th>\n",
       "      <td>PAR01290070, PAR01410069</td>\n",
       "      <td>800 FLORIDA AV</td>\n",
       "      <td>GALLAUDET UNIVERSITY</td>\n",
       "      <td>5</td>\n",
       "      <td>2012</td>\n",
       "      <td>Gallaudet University</td>\n",
       "      <td>800 Florida Avenue N.E.</td>\n",
       "      <td>20002</td>\n",
       "      <td>College/University</td>\n",
       "      <td>1864.0</td>\n",
       "      <td>3015594</td>\n",
       "      <td>79.8</td>\n",
       "      <td>157.7</td>\n",
       "      <td>NaN</td>\n",
       "      <td>20220.30</td>\n",
       "      <td>29689360.0</td>\n",
       "      <td>1392814.908</td>\n",
       "    </tr>\n",
       "    <tr>\n",
       "      <th>794</th>\n",
       "      <td>PAR01330131</td>\n",
       "      <td>3211 4TH ST NE</td>\n",
       "      <td>UNITED STATES CONFERENCE OF CATHOLIC BISHOPS</td>\n",
       "      <td>5</td>\n",
       "      <td>2012</td>\n",
       "      <td>The Catholic University of America</td>\n",
       "      <td>620 Michigan Avenue NE</td>\n",
       "      <td>20064</td>\n",
       "      <td>College/University</td>\n",
       "      <td>1889.0</td>\n",
       "      <td>2152094</td>\n",
       "      <td>134.8</td>\n",
       "      <td>265.1</td>\n",
       "      <td>NaN</td>\n",
       "      <td>26127.70</td>\n",
       "      <td>30049680.0</td>\n",
       "      <td>974989.976</td>\n",
       "    </tr>\n",
       "    <tr>\n",
       "      <th>795</th>\n",
       "      <td>PAR01330131</td>\n",
       "      <td>3211 4TH ST NE</td>\n",
       "      <td>UNITED STATES CONFERENCE OF CATHOLIC BISHOPS</td>\n",
       "      <td>5</td>\n",
       "      <td>2012</td>\n",
       "      <td>US Conf catholic Bishops</td>\n",
       "      <td>3211 4th st NE</td>\n",
       "      <td>20017</td>\n",
       "      <td>Office</td>\n",
       "      <td>1988.0</td>\n",
       "      <td>190000</td>\n",
       "      <td>72.4</td>\n",
       "      <td>198.6</td>\n",
       "      <td>72.0</td>\n",
       "      <td>1610.10</td>\n",
       "      <td>2905382.8</td>\n",
       "      <td>37816.200</td>\n",
       "    </tr>\n",
       "  </tbody>\n",
       "</table>\n",
       "</div>"
      ],
      "text/plain": [
       "          DC_Real_Property_ID Address_of_Record  \\\n",
       "791            Not Available*               NaN   \n",
       "792               PAR01200034   125 MICHIGAN AV   \n",
       "793  PAR01290070, PAR01410069    800 FLORIDA AV   \n",
       "794               PAR01330131    3211 4TH ST NE   \n",
       "795               PAR01330131    3211 4TH ST NE   \n",
       "\n",
       "                                  Owner_of_Record  Ward  Year  \\\n",
       "791                                           NaN     8  2012   \n",
       "792                               TRINITY COLLEGE     5  2012   \n",
       "793                          GALLAUDET UNIVERSITY     5  2012   \n",
       "794  UNITED STATES CONFERENCE OF CATHOLIC BISHOPS     5  2012   \n",
       "795  UNITED STATES CONFERENCE OF CATHOLIC BISHOPS     5  2012   \n",
       "\n",
       "                          Property_Name                Address_1  Postal_Code  \\\n",
       "791                    1275 Penn Ave NW     12745 Penn Avenue NW        20004   \n",
       "792               Alumnae and Main Hall     125 Michigan Ave. NE        20017   \n",
       "793                Gallaudet University  800 Florida Avenue N.E.        20002   \n",
       "794  The Catholic University of America   620 Michigan Avenue NE        20064   \n",
       "795            US Conf catholic Bishops           3211 4th st NE        20017   \n",
       "\n",
       "    Primary_Property_Type  Year_Built  \\\n",
       "791                Office      1956.0   \n",
       "792    College/University      1910.0   \n",
       "793    College/University      1864.0   \n",
       "794    College/University      1889.0   \n",
       "795                Office      1988.0   \n",
       "\n",
       "     _Reported_Building_Gross_Floor_Area_ft_ Site_EUI_kBtu/ft  \\\n",
       "791                                   238380             73.1   \n",
       "792                                   290700             83.4   \n",
       "793                                  3015594             79.8   \n",
       "794                                  2152094            134.8   \n",
       "795                                   190000             72.4   \n",
       "\n",
       "    Weather_Normalized_Source_EUI_kBtu/ft  ENERGY_STAR_Score  \\\n",
       "791                                 227.5               63.0   \n",
       "792                                 156.2                0.0   \n",
       "793                                 157.7                NaN   \n",
       "794                                 265.1                NaN   \n",
       "795                                 198.6               72.0   \n",
       "\n",
       "     Total_GHG_Emissions_MtCO2e  \\\n",
       "791                     2205.60   \n",
       "792                     1891.81   \n",
       "793                    20220.30   \n",
       "794                    26127.70   \n",
       "795                     1610.10   \n",
       "\n",
       "     Electricity_Use_-_Grid_Purchase_and_Onsite_kWh  Natural_Gas_Use_therms  \n",
       "791                                       5104647.0                     NaN  \n",
       "792                                       1995047.1              174410.100  \n",
       "793                                      29689360.0             1392814.908  \n",
       "794                                      30049680.0              974989.976  \n",
       "795                                       2905382.8               37816.200  "
      ]
     },
     "execution_count": 30,
     "metadata": {},
     "output_type": "execute_result"
    }
   ],
   "source": [
    "benchmark.tail()"
   ]
  },
  {
   "cell_type": "code",
   "execution_count": 31,
   "metadata": {},
   "outputs": [
    {
     "data": {
      "text/html": [
       "<div>\n",
       "<style scoped>\n",
       "    .dataframe tbody tr th:only-of-type {\n",
       "        vertical-align: middle;\n",
       "    }\n",
       "\n",
       "    .dataframe tbody tr th {\n",
       "        vertical-align: top;\n",
       "    }\n",
       "\n",
       "    .dataframe thead th {\n",
       "        text-align: right;\n",
       "    }\n",
       "</style>\n",
       "<table border=\"1\" class=\"dataframe\">\n",
       "  <thead>\n",
       "    <tr style=\"text-align: right;\">\n",
       "      <th></th>\n",
       "      <th>count</th>\n",
       "      <th>mean</th>\n",
       "      <th>std</th>\n",
       "      <th>min</th>\n",
       "      <th>25%</th>\n",
       "      <th>50%</th>\n",
       "      <th>75%</th>\n",
       "      <th>max</th>\n",
       "    </tr>\n",
       "    <tr>\n",
       "      <th>Primary_Property_Type</th>\n",
       "      <th></th>\n",
       "      <th></th>\n",
       "      <th></th>\n",
       "      <th></th>\n",
       "      <th></th>\n",
       "      <th></th>\n",
       "      <th></th>\n",
       "      <th></th>\n",
       "    </tr>\n",
       "  </thead>\n",
       "  <tbody>\n",
       "    <tr>\n",
       "      <th>College/University</th>\n",
       "      <td>42.0</td>\n",
       "      <td>686313.98</td>\n",
       "      <td>958926.88</td>\n",
       "      <td>150176.0</td>\n",
       "      <td>211231.25</td>\n",
       "      <td>290321.0</td>\n",
       "      <td>420653.00</td>\n",
       "      <td>3543436.0</td>\n",
       "    </tr>\n",
       "    <tr>\n",
       "      <th>Hotel</th>\n",
       "      <td>45.0</td>\n",
       "      <td>481041.96</td>\n",
       "      <td>339280.91</td>\n",
       "      <td>159857.0</td>\n",
       "      <td>260566.00</td>\n",
       "      <td>306123.0</td>\n",
       "      <td>643725.00</td>\n",
       "      <td>1600000.0</td>\n",
       "    </tr>\n",
       "    <tr>\n",
       "      <th>Multifamily Housing</th>\n",
       "      <td>183.0</td>\n",
       "      <td>340482.32</td>\n",
       "      <td>194628.49</td>\n",
       "      <td>154532.0</td>\n",
       "      <td>218574.50</td>\n",
       "      <td>267750.0</td>\n",
       "      <td>387450.00</td>\n",
       "      <td>988819.0</td>\n",
       "    </tr>\n",
       "    <tr>\n",
       "      <th>Office</th>\n",
       "      <td>526.0</td>\n",
       "      <td>363385.55</td>\n",
       "      <td>235961.32</td>\n",
       "      <td>150161.0</td>\n",
       "      <td>221724.25</td>\n",
       "      <td>303706.5</td>\n",
       "      <td>417319.75</td>\n",
       "      <td>2000000.0</td>\n",
       "    </tr>\n",
       "  </tbody>\n",
       "</table>\n",
       "</div>"
      ],
      "text/plain": [
       "                       count       mean        std       min        25%  \\\n",
       "Primary_Property_Type                                                     \n",
       "College/University      42.0  686313.98  958926.88  150176.0  211231.25   \n",
       "Hotel                   45.0  481041.96  339280.91  159857.0  260566.00   \n",
       "Multifamily Housing    183.0  340482.32  194628.49  154532.0  218574.50   \n",
       "Office                 526.0  363385.55  235961.32  150161.0  221724.25   \n",
       "\n",
       "                            50%        75%        max  \n",
       "Primary_Property_Type                                  \n",
       "College/University     290321.0  420653.00  3543436.0  \n",
       "Hotel                  306123.0  643725.00  1600000.0  \n",
       "Multifamily Housing    267750.0  387450.00   988819.0  \n",
       "Office                 303706.5  417319.75  2000000.0  "
      ]
     },
     "execution_count": 31,
     "metadata": {},
     "output_type": "execute_result"
    }
   ],
   "source": [
    "#Question 3: Based on the output the unviversity has the most average floor area while having the lowest count\n",
    "# On the other hand the offices has the highest count with an average that is only slightly above the multifamily housing\n",
    "round(benchmark.groupby('Primary_Property_Type')._Reported_Building_Gross_Floor_Area_ft_.describe(),2)"
   ]
  },
  {
   "cell_type": "code",
   "execution_count": 32,
   "metadata": {},
   "outputs": [
    {
     "name": "stdout",
     "output_type": "stream",
     "text": [
      "                            Total_GHG_Emissions_MtCO2e\n",
      "Year Primary_Property_Type                            \n",
      "2011 College/University                    8743.610588\n",
      "     Hotel                                 4866.587000\n",
      "     Multifamily Housing                   1412.858000\n",
      "     Office                                3158.135695\n",
      "2012 College/University                    6100.068800\n",
      "     Hotel                                 4510.186800\n",
      "     Multifamily Housing                   1188.852920\n",
      "     Office                                3479.469505\n"
     ]
    }
   ],
   "source": [
    "# Question 4: Pivot Table\n",
    "# A: The highest is the University and the lowest is the multifamily housing across the two years\n",
    "# B: Yes, there is a reduction in emmisons between the years \n",
    "import numpy as np\n",
    "table = pd.pivot_table(benchmark, values=['Total_GHG_Emissions_MtCO2e'], index=['Year','Primary_Property_Type'], aggfunc={'Total_GHG_Emissions_MtCO2e': np.mean})\n",
    "print(table)"
   ]
  },
  {
   "cell_type": "code",
   "execution_count": 33,
   "metadata": {},
   "outputs": [
    {
     "data": {
      "text/plain": [
       "Old               397\n",
       "Ancient           199\n",
       "Relatively new    197\n",
       "Name: Property_Age, dtype: int64"
      ]
     },
     "execution_count": 33,
     "metadata": {},
     "output_type": "execute_result"
    }
   ],
   "source": [
    "#Question 5: three categories\n",
    "benchmark['Property_Age'] = pd.cut(benchmark['Year_Built'],bins=[1864,1965,1996,2011], labels=['Ancient','Old','Relatively new'])\n",
    "benchmark['Property_Age'].value_counts()\n",
    "\n",
    "#Question 6:\n",
    "\n",
    "#Ancient- 199\n",
    "\n",
    "#Old- 397\n",
    "\n",
    "#Relatively new- 197\n"
   ]
  },
  {
   "cell_type": "code",
   "execution_count": 46,
   "metadata": {},
   "outputs": [],
   "source": [
    "# Question 7:\n",
    "new_benchmark = benchmark[['Ward', 'Primary_Property_Type','ENERGY_STAR_Score' ]]\n",
    "new_benchmark.set_index('Ward', inplace = True)"
   ]
  },
  {
   "cell_type": "code",
   "execution_count": 47,
   "metadata": {},
   "outputs": [],
   "source": [
    "new_benchmark1 = new_benchmark.loc[[2,3], ['Primary_Property_Type', 'ENERGY_STAR_Score' ]]"
   ]
  },
  {
   "cell_type": "code",
   "execution_count": 51,
   "metadata": {},
   "outputs": [
    {
     "data": {
      "text/html": [
       "<div>\n",
       "<style scoped>\n",
       "    .dataframe tbody tr th:only-of-type {\n",
       "        vertical-align: middle;\n",
       "    }\n",
       "\n",
       "    .dataframe tbody tr th {\n",
       "        vertical-align: top;\n",
       "    }\n",
       "\n",
       "    .dataframe thead th {\n",
       "        text-align: right;\n",
       "    }\n",
       "</style>\n",
       "<table border=\"1\" class=\"dataframe\">\n",
       "  <thead>\n",
       "    <tr style=\"text-align: right;\">\n",
       "      <th></th>\n",
       "      <th></th>\n",
       "      <th>ENERGY_STAR_Score</th>\n",
       "    </tr>\n",
       "    <tr>\n",
       "      <th>Ward</th>\n",
       "      <th>Primary_Property_Type</th>\n",
       "      <th></th>\n",
       "    </tr>\n",
       "  </thead>\n",
       "  <tbody>\n",
       "    <tr>\n",
       "      <th rowspan=\"4\" valign=\"top\">2</th>\n",
       "      <th>College/University</th>\n",
       "      <td>33.636364</td>\n",
       "    </tr>\n",
       "    <tr>\n",
       "      <th>Hotel</th>\n",
       "      <td>39.571429</td>\n",
       "    </tr>\n",
       "    <tr>\n",
       "      <th>Multifamily Housing</th>\n",
       "      <td>0.000000</td>\n",
       "    </tr>\n",
       "    <tr>\n",
       "      <th>Office</th>\n",
       "      <td>60.453333</td>\n",
       "    </tr>\n",
       "    <tr>\n",
       "      <th rowspan=\"4\" valign=\"top\">3</th>\n",
       "      <th>College/University</th>\n",
       "      <td>38.200000</td>\n",
       "    </tr>\n",
       "    <tr>\n",
       "      <th>Hotel</th>\n",
       "      <td>32.250000</td>\n",
       "    </tr>\n",
       "    <tr>\n",
       "      <th>Multifamily Housing</th>\n",
       "      <td>0.000000</td>\n",
       "    </tr>\n",
       "    <tr>\n",
       "      <th>Office</th>\n",
       "      <td>53.187500</td>\n",
       "    </tr>\n",
       "  </tbody>\n",
       "</table>\n",
       "</div>"
      ],
      "text/plain": [
       "                            ENERGY_STAR_Score\n",
       "Ward Primary_Property_Type                   \n",
       "2    College/University             33.636364\n",
       "     Hotel                          39.571429\n",
       "     Multifamily Housing             0.000000\n",
       "     Office                         60.453333\n",
       "3    College/University             38.200000\n",
       "     Hotel                          32.250000\n",
       "     Multifamily Housing             0.000000\n",
       "     Office                         53.187500"
      ]
     },
     "execution_count": 51,
     "metadata": {},
     "output_type": "execute_result"
    }
   ],
   "source": [
    "new_benchmark1.groupby(['Ward','Primary_Property_Type'])[['Primary_Property_Type','ENERGY_STAR_Score']].mean()"
   ]
  },
  {
   "cell_type": "code",
   "execution_count": null,
   "metadata": {},
   "outputs": [],
   "source": []
  }
 ],
 "metadata": {
  "kernelspec": {
   "display_name": "Python 3",
   "language": "python",
   "name": "python3"
  },
  "language_info": {
   "codemirror_mode": {
    "name": "ipython",
    "version": 3
   },
   "file_extension": ".py",
   "mimetype": "text/x-python",
   "name": "python",
   "nbconvert_exporter": "python",
   "pygments_lexer": "ipython3",
   "version": "3.8.5"
  }
 },
 "nbformat": 4,
 "nbformat_minor": 4
}
